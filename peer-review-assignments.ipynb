{
 "cells": [
  {
   "cell_type": "code",
   "execution_count": 3,
   "metadata": {
    "collapsed": false
   },
   "outputs": [
    {
     "data": {
      "text/plain": [
       "{'a': ['a1', 'a2', 'a3'],\n",
       " 'b': ['b1', 'b2', 'b3'],\n",
       " 'c': ['c1', 'c2', 'c3'],\n",
       " 'd': ['d1', 'd2', 'd3'],\n",
       " 'e': ['e1', 'e2', 'e3'],\n",
       " 'f': ['f1', 'f2', 'f3'],\n",
       " 'g': ['g1', 'g2', 'g3'],\n",
       " 'h': ['h1', 'h2', 'h3'],\n",
       " 'i': ['i1', 'i2', 'i3'],\n",
       " 'j': ['j1', 'j2', 'j3']}"
      ]
     },
     "execution_count": 3,
     "metadata": {},
     "output_type": "execute_result"
    }
   ],
   "source": [
    "# generate some group data\n",
    "groups = { sub : [sub + x for x in ['1','2','3']] for sub in [ chr(ord('a') + z) for z in range(10)]}\n",
    "groups"
   ]
  },
  {
   "cell_type": "code",
   "execution_count": 114,
   "metadata": {
    "collapsed": false
   },
   "outputs": [],
   "source": [
    "import random\n",
    "import math\n",
    "\n",
    "# invert a dictionary of lists (assuming no duplicates)\n",
    "def invert_dictlist(d):\n",
    "    return dict( (v,k) for k in d for v in d[k] )\n",
    "\n",
    "# invert a dictionary of lists (with duplicates)\n",
    "def invert_dictlist_dup(d):\n",
    "    values = set(a for b in d.values() for a in b)\n",
    "    reverse_d = dict((new_key, [key for key,value in d.items() if new_key in value]) for new_key in values)\n",
    "    return reverse_d\n",
    "\n",
    "# assign students in groups to k submissions.\n",
    "def peer_assignment(groups,k):\n",
    "    submissions = groups.keys()\n",
    "    \n",
    "    # lookup for which submissions to exclude from a particular student.\n",
    "    exclude = invert_dictlist(groups)\n",
    "    students = exclude.keys()\n",
    "    studentList = list(students);\n",
    "\n",
    " \n",
    "    # load = ceil(number of students * k / number of submissions)\n",
    "    # this is how many copies of random submission lists we need.\n",
    "    load = int(math.ceil((len(students) * k) / len(submissions)))\n",
    "    \n",
    "    # Repeat the submissions so that they each occur load times.\n",
    "    repeatedSubmissions = [x for x in submissions for i in range(load)]\n",
    "    \n",
    "    # initialize empty assignment and cover\n",
    "    assignments = {s : [] for s in students}\n",
    "    cover = {s : [] for s in students}\n",
    "    \n",
    "    # cover with the first few submissions. Every time a submission is used, remove it.\n",
    "    # This way, each submission is repeated at most load # of times.\n",
    "    for s in students:\n",
    "        for currentSubmission in repeatedSubmissions:\n",
    "            if currentSubmission not in exclude[s]:\n",
    "                assignments[s].append(currentSubmission);\n",
    "                repeatedSubmissions.remove(currentSubmission);\n",
    "                cover[s].append(currentSubmission);\n",
    "                break;\n",
    "    \n",
    "    # print the cover\n",
    "    # here one can also output to file, etc.\n",
    "    print(\"Cover: \");\n",
    "    print(invert_dictlist_dup(cover));\n",
    "    \n",
    "    \n",
    "    \n",
    "    permutedSubmissions = random.sample(repeatedSubmissions,len(repeatedSubmissions));\n",
    "    \n",
    "    for s in students:\n",
    "        count = 0;\n",
    "        \n",
    "        oldPermuted = permutedSubmissions;\n",
    "        \n",
    "        for currentSubmission in oldPermuted:\n",
    "            if (count < k-1):\n",
    "                assignments[s].append(currentSubmission);\n",
    "                if not(check_assignment(groups,assignments)):\n",
    "                    assignments[s].remove(currentSubmission);\n",
    "                else:\n",
    "                    permutedSubmissions.remove(currentSubmission);\n",
    "                    count = count + 1;\n",
    "        \n",
    "        if (count < k-1):\n",
    "            print(\"Error: Couldn't fully match student \" + s); \n",
    "            print(permutedSubmissions);\n",
    "            break;\n",
    "            \n",
    "    return assignments\n",
    "    \n",
    "    \n",
    "# make sure nobody is assigned own assignment or duplicates\n",
    "def check_assignment(groups,assignments):\n",
    "    # maps students to their own submission\n",
    "    \n",
    "    exclude = invert_dictlist(groups)\n",
    "\n",
    "    passed = True\n",
    "    \n",
    "    for s in assignments.keys():\n",
    "        if exclude[s] in assignments[s]:\n",
    "            #print(\"Student \" + s + \" assigned to own submission\\n\")\n",
    "            passed = False\n",
    "        if len(assignments[s]) != len(set(assignments[s])):\n",
    "            #print(\"Student \" + s + \" assigned duplicate submissions\\n\")\n",
    "            passed = False\n",
    "            \n",
    "    return passed"
   ]
  },
  {
   "cell_type": "code",
   "execution_count": 120,
   "metadata": {
    "collapsed": false
   },
   "outputs": [
    {
     "name": "stdout",
     "output_type": "stream",
     "text": [
      "Cover: \n",
      "{'h': ['j2', 'a2', 'j1', 'b2', 'e1', 'b3', 'b1', 'g1', 'd3'], 'i': ['h1', 'f3', 'a1', 'g2', 'h2', 'c2', 'f1', 'e2', 'h3'], 'd': ['f2', 'e3', 'j3', 'i3', 'c3', 'i1', 'g3', 'a3', 'c1'], 'j': ['d1', 'i2', 'd2']}\n",
      "Error: Couldn't fully match student d2\n",
      "['b']\n"
     ]
    },
    {
     "data": {
      "text/plain": [
       "{'a': ['d1', 'f2', 'j3', 'i3', 'h2', 'e2', 'e1', 'i1', 'b1'],\n",
       " 'b': ['j2', 'j1', 'e3', 'j3', 'g2', 'h2', 'c2', 'c1'],\n",
       " 'c': ['a2', 'e3', 'b2', 'i3', 'f3', 'a1', 'b3', 'g3', 'd3'],\n",
       " 'd': ['f2', 'e3', 'j3', 'i3', 'c3', 'i1', 'g3', 'a3', 'c1'],\n",
       " 'e': ['j1', 'f2', 'f3', 'c2', 'f1', 'c3', 'a3', 'c1', 'd2'],\n",
       " 'f': ['d1', 'g2', 'e2', 'h3', 'c3', 'g3', 'a3', 'g1', 'i2'],\n",
       " 'g': ['j2', 'a2', 'h1', 'b2', 'a1', 'f1', 'i1', 'd3', 'i2'],\n",
       " 'h': ['j2', 'a2', 'j1', 'b2', 'e1', 'b3', 'b1', 'g1', 'd3'],\n",
       " 'i': ['h1', 'f3', 'a1', 'g2', 'h2', 'c2', 'f1', 'e2', 'h3'],\n",
       " 'j': ['d1', 'h1', 'e1', 'h3', 'b3', 'b1', 'g1', 'i2', 'd2']}"
      ]
     },
     "execution_count": 120,
     "metadata": {},
     "output_type": "execute_result"
    }
   ],
   "source": [
    "assignments = peer_assignment(groups,3)\n",
    "check_assignment(groups,assignments)\n",
    "invert_dictlist_dup(assignments)"
   ]
  },
  {
   "cell_type": "code",
   "execution_count": 116,
   "metadata": {
    "collapsed": false
   },
   "outputs": [
    {
     "name": "stdout",
     "output_type": "stream",
     "text": [
      "Cover: \n",
      "{'h': ['j2', 'a2', 'j1', 'b2', 'e1', 'b3', 'b1', 'g1', 'd3'], 'i': ['h1', 'f3', 'a1', 'g2', 'h2', 'c2', 'f1', 'e2', 'h3'], 'd': ['f2', 'e3', 'j3', 'i3', 'c3', 'i1', 'g3', 'a3', 'c1'], 'j': ['d1', 'i2', 'd2']}\n",
      "Error: Couldn't fully match student d2\n",
      "['g']\n"
     ]
    },
    {
     "data": {
      "text/plain": [
       "{'a1': ['i', 'g', 'e'],\n",
       " 'a2': ['h', 'b', 'c'],\n",
       " 'a3': ['d', 'g', 'f'],\n",
       " 'b1': ['h', 'j', 'e'],\n",
       " 'b2': ['h', 'a', 'e'],\n",
       " 'b3': ['h', 'a', 'f'],\n",
       " 'c1': ['d', 'e', 'a'],\n",
       " 'c2': ['i', 'f', 'a'],\n",
       " 'c3': ['d', 'j', 'b'],\n",
       " 'd1': ['j', 'c', 'g'],\n",
       " 'd2': ['j', 'b'],\n",
       " 'd3': ['h', 'j', 'e'],\n",
       " 'e1': ['h', 'j', 'b'],\n",
       " 'e2': ['i', 'g', 'f'],\n",
       " 'e3': ['d', 'f', 'b'],\n",
       " 'f1': ['i', 'g', 'c'],\n",
       " 'f2': ['d', 'a', 'g'],\n",
       " 'f3': ['i', 'c', 'g'],\n",
       " 'g1': ['h', 'a', 'b'],\n",
       " 'g2': ['i', 'j', 'f'],\n",
       " 'g3': ['d', 'c', 'a'],\n",
       " 'h1': ['i', 'g', 'b'],\n",
       " 'h2': ['i', 'f', 'a'],\n",
       " 'h3': ['i', 'c', 'e'],\n",
       " 'i1': ['d', 'c', 'e'],\n",
       " 'i2': ['j', 'c', 'e'],\n",
       " 'i3': ['d', 'j', 'f'],\n",
       " 'j1': ['h', 'b', 'f'],\n",
       " 'j2': ['h', 'a', 'c'],\n",
       " 'j3': ['d', 'b', 'e']}"
      ]
     },
     "execution_count": 116,
     "metadata": {},
     "output_type": "execute_result"
    }
   ],
   "source": [
    "peer_assignment(groups,3)"
   ]
  },
  {
   "cell_type": "code",
   "execution_count": null,
   "metadata": {
    "collapsed": true
   },
   "outputs": [],
   "source": [
    ""
   ]
  }
 ],
 "metadata": {
  "kernelspec": {
   "display_name": "Python 3",
   "language": "python",
   "name": "python3"
  },
  "language_info": {
   "codemirror_mode": {
    "name": "ipython",
    "version": 3.0
   },
   "file_extension": ".py",
   "mimetype": "text/x-python",
   "name": "python",
   "nbconvert_exporter": "python",
   "pygments_lexer": "ipython3",
   "version": "3.5.1"
  }
 },
 "nbformat": 4,
 "nbformat_minor": 0
}