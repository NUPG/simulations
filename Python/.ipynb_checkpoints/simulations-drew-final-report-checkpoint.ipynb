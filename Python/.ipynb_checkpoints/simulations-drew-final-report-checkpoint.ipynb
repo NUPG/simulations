{
 "cells": [
  {
   "cell_type": "code",
   "execution_count": null,
   "metadata": {
    "collapsed": true
   },
   "outputs": [],
   "source": [
    "%matplotlib inline\n",
    "\n",
    "from pprint import pprint\n",
    "from peer_review import *\n",
    "from vancouver_simulations import *\n",
    "import numpy as np\n",
    "import matplotlib.pyplot as plt\n",
    "import operator"
   ]
  },
  {
   "cell_type": "code",
   "execution_count": null,
   "metadata": {
    "collapsed": false
   },
   "outputs": [],
   "source": [
    "plot_cdfs(vancouver_steps=10, num_trials=200)"
   ]
  },
  {
   "cell_type": "code",
   "execution_count": null,
   "metadata": {
    "collapsed": false
   },
   "outputs": [],
   "source": [
    "plot_cdfs(vancouver_steps=20, num_trials=200)"
   ]
  },
  {
   "cell_type": "code",
   "execution_count": null,
   "metadata": {
    "collapsed": false
   },
   "outputs": [],
   "source": [
    "plot_cdfs(vancouver_steps=1, num_trials=200)"
   ]
  },
  {
   "cell_type": "code",
   "execution_count": null,
   "metadata": {
    "collapsed": false
   },
   "outputs": [],
   "source": [
    "plot_cdfs(num_trials=200, use_cover=False)"
   ]
  },
  {
   "cell_type": "code",
   "execution_count": null,
   "metadata": {
    "collapsed": false
   },
   "outputs": [],
   "source": [
    "plot_cdfs(num_trials=200, use_cover=True)"
   ]
  },
  {
   "cell_type": "code",
   "execution_count": null,
   "metadata": {
    "collapsed": false
   },
   "outputs": [],
   "source": [
    "plot_cdfs(num_trials=200, peer_quality=(random.choice, [1, 5]))"
   ]
  },
  {
   "cell_type": "code",
   "execution_count": null,
   "metadata": {
    "collapsed": false
   },
   "outputs": [],
   "source": [
    "plot_cdfs(num_trials=200, peer_quality=(random.choice, [1, 5, 5, 5]))"
   ]
  },
  {
   "cell_type": "code",
   "execution_count": null,
   "metadata": {
    "collapsed": false
   },
   "outputs": [],
   "source": [
    "plot_cdfs(num_trials=200, peer_quality=(random.choice, [1, 1, 1, 5]))"
   ]
  },
  {
   "cell_type": "code",
   "execution_count": null,
   "metadata": {
    "collapsed": true
   },
   "outputs": [],
   "source": [
    "def highest_grade_error(t, init, actual):\n",
    "    scores = init[0]\n",
    "    qualities = init[1]\n",
    "    omni_scores = actual[0]\n",
    "    true_qualities = actual[1]\n",
    "    \n",
    "    sub_score_error = [abs(scores[submission][0] - 0.5) for submission in scores]\n",
    "    sub_var_error = [abs(scores[submission][1] - omni_scores[submission][1]) for submission in scores]\n",
    "    grader_var_error = [abs(qualities[grader] - true_qualities[grader]) for grader in qualities]\n",
    "    \n",
    "    return max(sub_grade_error.iteritems(), key=operator.itemgetter(1))[0]\n",
    "\n",
    "def highest_submission_variance(t, init, actual):\n",
    "    scores = init[0]\n",
    "    qualities = init[1]\n",
    "    omni_scores = actual[0]\n",
    "    true_qualities = actual[1]\n",
    "    \n",
    "    sub_score_error = [abs(scores[submission][0] - 0.5) for submission in scores]\n",
    "    sub_var_error = [abs(scores[submission][1] - omni_scores[submission][1]) for submission in scores]\n",
    "    grader_var_error = [abs(qualities[grader] - true_qualities[grader]) for grader in qualities]\n",
    "    \n",
    "    sub_var = [scores[submission][1] for submission in scores]\n",
    "    \n",
    "    return max(sub_var.iteritems(), key=operator.itemgetter(1))[0]"
   ]
  },
  {
   "cell_type": "code",
   "execution_count": null,
   "metadata": {
    "collapsed": false
   },
   "outputs": [],
   "source": [
    "plot_cdfs(grading_algorithm=highest_grade_error, num_trials=200)"
   ]
  },
  {
   "cell_type": "code",
   "execution_count": null,
   "metadata": {
    "collapsed": false
   },
   "outputs": [],
   "source": [
    "plot_cdfs(grading_algorithm=highest_submission_variance, num_trials=200)"
   ]
  },
  {
   "cell_type": "code",
   "execution_count": null,
   "metadata": {
    "collapsed": true
   },
   "outputs": [],
   "source": [
    "def plot_stats_2(stat_type, stat_variable, peer_quality, use_cover=True,\n",
    "                 vancouver_steps=10, num_subs=20, num_grades_per_sub=3, num_trials=100, step_size=1):\n",
    "\n",
    "    stats = []\n",
    "    for num_true_grades in range(0, num_subs + step_size, step_size):\n",
    "        # print(num_true_grades)\n",
    "        stats.append(vancouver_statistics(num_subs, num_grades_per_sub, num_true_grades, num_trials, peer_quality,\n",
    "                                          False, vancouver_steps)[stat_type][stat_variable])\n",
    "    plt.plot(range(0, num_subs + step_size, step_size), stats)\n",
    "\n",
    "    stats = []\n",
    "    for num_true_grades in range(0, num_subs + step_size, step_size):\n",
    "        # print(num_true_grades)\n",
    "        stats.append(vancouver_statistics(num_subs, num_grades_per_sub, num_true_grades, num_trials, peer_quality,\n",
    "                                          True, vancouver_steps)[stat_type][stat_variable])\n",
    "    plt.plot(range(0, num_subs + step_size, step_size), stats)\n",
    "    \n",
    "    plt.xlabel('Number of Ground-Truth Grades')\n",
    "    plt.ylabel(stat_type + ' ' + stat_variable + ' Error')\n",
    "    plt.legend(('No Cover', 'With Cover'))\n",
    "    plt.show()"
   ]
  },
  {
   "cell_type": "code",
   "execution_count": null,
   "metadata": {
    "collapsed": false
   },
   "outputs": [],
   "source": [
    "plot_stats_2('mean', 'sub_grade', (random.randint, 1, 5))"
   ]
  },
  {
   "cell_type": "code",
   "execution_count": null,
   "metadata": {
    "collapsed": false
   },
   "outputs": [],
   "source": [
    "plot_cdfs_2(num_trials=200, num_truths=(0, 10))"
   ]
  },
  {
   "cell_type": "code",
   "execution_count": null,
   "metadata": {
    "collapsed": false
   },
   "outputs": [],
   "source": [
    "plot_cdfs_3(num_truths=(15, ), num_trials=200, algs=(lambda x: random.choice(x[0]), highest_grade_error, highest_submission_variance), alg_names=('Random', 'Highest Grade Error', 'Highest Sub Var'))"
   ]
  },
  {
   "cell_type": "code",
   "execution_count": null,
   "metadata": {
    "collapsed": false
   },
   "outputs": [],
   "source": [
    "plot_cdfs_4(num_trials=200, num_truths=(10,), peer_qualities=((random.randint, 1, 5), (random.choice, [1, 5]),\n",
    "                                                             (random.choice, [1, 5, 5, 5]), (random.choice, [1, 1, 1, 5]),\n",
    "                                                             (random.choice, [1, 1000])),\n",
    "            pq_names=('Random on {1,2,3,4,5}', 'Random on {1,5}', 'Random on {1, 5, 5, 5}', 'Random on {1, 1, 1, 5}',\n",
    "                     'Random on {1, 1000}'))"
   ]
  },
  {
   "cell_type": "code",
   "execution_count": null,
   "metadata": {
    "collapsed": false
   },
   "outputs": [],
   "source": [
    "plot_cdfs_4(num_trials=200, num_truths=(5,), peer_qualities=((random.randint, 1, 5), (random.choice, [1, 5]),\n",
    "                                                            (random.choice, [1, 5, 5, 5]), (random.choice, [1, 1, 1, 5]),\n",
    "                                                            (random.choice, [1, 1000])),\n",
    "            pq_names=('Random on {1,2,3,4,5}', 'Random on {1,5}', 'Random on {1, 5, 5, 5}', 'Random on {1, 1, 1, 5}',\n",
    "                     'Random on {1, 1000}'))"
   ]
  },
  {
   "cell_type": "code",
   "execution_count": null,
   "metadata": {
    "collapsed": false
   },
   "outputs": [],
   "source": [
    "plot_cdfs_4(num_trials=200, num_truths=(15,), peer_qualities=((random.randint, 1, 5), (random.choice, [1, 5]),\n",
    "                                                            (random.choice, [1, 5, 5, 5]), (random.choice, [1, 1, 1, 5]),\n",
    "                                                             (random.choice, [1, 1000])),\n",
    "            pq_names=('Random on {1,2,3,4,5}', 'Random on {1,5}', 'Random on {1, 5, 5, 5}', 'Random on {1, 1, 1, 5}',\n",
    "                     'Random on {1, 1000}'))"
   ]
  },
  {
   "cell_type": "code",
   "execution_count": null,
   "metadata": {
    "collapsed": true
   },
   "outputs": [],
   "source": []
  }
 ],
 "metadata": {
  "kernelspec": {
   "display_name": "Python 2",
   "language": "python",
   "name": "python2"
  },
  "language_info": {
   "codemirror_mode": {
    "name": "ipython",
    "version": 2
   },
   "file_extension": ".py",
   "mimetype": "text/x-python",
   "name": "python",
   "nbconvert_exporter": "python",
   "pygments_lexer": "ipython2",
   "version": "2.7.11"
  }
 },
 "nbformat": 4,
 "nbformat_minor": 0
}
