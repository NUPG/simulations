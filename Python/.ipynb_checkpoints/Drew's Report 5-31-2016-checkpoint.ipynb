{
 "cells": [
  {
   "cell_type": "code",
   "execution_count": null,
   "metadata": {
    "collapsed": false
   },
   "outputs": [],
   "source": [
    "%matplotlib inline\n",
    "\n",
    "from pprint import pprint\n",
    "from peer_review import *\n",
    "from vancouver_simulations import *\n",
    "import numpy as np\n",
    "import matplotlib.pyplot as plt"
   ]
  },
  {
   "cell_type": "code",
   "execution_count": null,
   "metadata": {
    "collapsed": false
   },
   "outputs": [],
   "source": [
    "print_stats(vancouver_statistics(20, 3, 5, 3, (random.randint, 5, 10)))"
   ]
  },
  {
   "cell_type": "code",
   "execution_count": null,
   "metadata": {
    "collapsed": false
   },
   "outputs": [],
   "source": [
    "plot_stats('mean', 'sub_grade', (random.randint, 3, 3), num_trials=3, use_cover=False)"
   ]
  },
  {
   "cell_type": "markdown",
   "metadata": {},
   "source": [
    "### Vancouver With Injected Ground Truth\n",
    "\n",
    "We now have a working plot function and another function which can display specific stats. This should be enough to accumulate reasonable amounts of data. I want to start with an examination of what happens without a cover as we increase the number of ground truth grades with graders at different variances."
   ]
  },
  {
   "cell_type": "code",
   "execution_count": null,
   "metadata": {
    "collapsed": false
   },
   "outputs": [],
   "source": [
    "plot_stats('mean', 'sub_grade', (random.randint, 1, 5), num_trials=10, use_cover=False)"
   ]
  },
  {
   "cell_type": "markdown",
   "metadata": {},
   "source": [
    "That appears to decrease linearly, but I am not convinced, so let's run it with a higher number of trials."
   ]
  },
  {
   "cell_type": "code",
   "execution_count": null,
   "metadata": {
    "collapsed": false
   },
   "outputs": [],
   "source": [
    "plot_stats('mean', 'sub_grade', (random.randint, 1, 5), num_trials=100, use_cover=False)"
   ]
  },
  {
   "cell_type": "markdown",
   "metadata": {},
   "source": [
    "This does indeed show that the plot is linear without the use of covers. Any effects the TA grades have on the non-TA-graded submissions must be minimal, which is slightly disappointing."
   ]
  },
  {
   "cell_type": "markdown",
   "metadata": {},
   "source": [
    "### Working with Covers\n",
    "\n",
    "My next step will be to look at whether assigning graders to a cover causes a deflection of any sort in the plot."
   ]
  },
  {
   "cell_type": "code",
   "execution_count": null,
   "metadata": {
    "collapsed": false
   },
   "outputs": [],
   "source": [
    "plot_stats('mean', 'sub_grade', (random.randint, 1, 5), num_trials=25, use_cover=True)"
   ]
  },
  {
   "cell_type": "markdown",
   "metadata": {},
   "source": [
    "Once again, this appears linear, but I want to run a high-resolution plot."
   ]
  },
  {
   "cell_type": "code",
   "execution_count": null,
   "metadata": {
    "collapsed": false
   },
   "outputs": [],
   "source": [
    "plot_stats('mean', 'sub_grade', (random.randint, 1, 5), num_trials=100, use_cover=True)"
   ]
  },
  {
   "cell_type": "markdown",
   "metadata": {
    "collapsed": true
   },
   "source": [
    "This is pretty conclusive evidence that unless the code I am running is wrong (which is a possibility, despite my best efforts), the error mean submission grade error converges to zero linearly as ground truth grades increase. This means, unfortunately, that the error scales down linearly with time and effort, and there is no real \"tipping point\" of how much effort should be put in. This is actually a somewhat surprising result, since it means that Vancouver is not really able to use the information from ground truth very effectively. This may change when more people are grading the same assignment, so that is what I want to try next."
   ]
  },
  {
   "cell_type": "code",
   "execution_count": null,
   "metadata": {
    "collapsed": false
   },
   "outputs": [],
   "source": [
    "plot_stats('mean', 'sub_grade', (random.randint, 1, 5), num_trials=20, use_cover=True, num_grades_per_sub=6)"
   ]
  },
  {
   "cell_type": "markdown",
   "metadata": {},
   "source": [
    "That about halves the error, which is what I would expect since each assignment gets double the number of input grades. It's still linear, or too close to linear to be reliably distinguished from it."
   ]
  },
  {
   "cell_type": "markdown",
   "metadata": {},
   "source": [
    "### Verification of Vancouver\n",
    "\n",
    "I want to take a moment out now to verify that I am using the correct number of Vancouver steps, just to be sure that these results are valid. I can do that by comparing plots at different numbers of iterations, to see if the error at all points is lower or the same."
   ]
  },
  {
   "cell_type": "code",
   "execution_count": null,
   "metadata": {
    "collapsed": false
   },
   "outputs": [],
   "source": [
    "plot_stats('mean', 'sub_grade', (random.randint, 1, 5), num_trials=20, use_cover=True, vancouver_steps=20)"
   ]
  },
  {
   "cell_type": "markdown",
   "metadata": {},
   "source": [
    "Doubling the number of Vancouver iterations doesn't appear to have done anything to the plot, so from now on I'm going to assume that for this sample size at least, ten iterations is sufficient."
   ]
  },
  {
   "cell_type": "markdown",
   "metadata": {},
   "source": [
    "### Summary of Results\n",
    "\n",
    "I have conducted simulations in several areas. First, I wanted to verify Vancouver, and this was easy. For a sample size of twenty students grading three submissions each, ten iterations appears to be sufficient to allow the algorithm to appropriately converge. Second, I wanted to determine the manner in which injection of ground truth grades would cause the error to change. I have found that said injection causes the mean error to decrease linearly, which implies that non-ground-truth assignments are not affected by ground truth injection in a meaningful way. Third, I attempted to determine if the use of a planted cover would be different than not using a planted cover in this regard, to see if we might gain bonus benefits by having graded a cover. I was able to discern no such difference; the plots appear to be identical.\n",
    "\n",
    "For the purpose of grading assignments, this means that the work required to be done by the TAs is linear with the error considered allowable by the instructors. The maximum error is even worse, decreasing slowly until it drops off sharply near the end, though this can be rendered largely irrelevant by the presence of an appeals process."
   ]
  },
  {
   "cell_type": "code",
   "execution_count": null,
   "metadata": {
    "collapsed": true
   },
   "outputs": [],
   "source": []
  }
 ],
 "metadata": {
  "kernelspec": {
   "display_name": "Python 2",
   "language": "python",
   "name": "python2"
  },
  "language_info": {
   "codemirror_mode": {
    "name": "ipython",
    "version": 2
   },
   "file_extension": ".py",
   "mimetype": "text/x-python",
   "name": "python",
   "nbconvert_exporter": "python",
   "pygments_lexer": "ipython2",
   "version": "2.7.11"
  }
 },
 "nbformat": 4,
 "nbformat_minor": 0
}
