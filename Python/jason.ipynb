{
 "cells": [
  {
   "cell_type": "code",
   "execution_count": 10,
   "metadata": {
    "collapsed": false
   },
   "outputs": [],
   "source": [
    "from pprint import pprint\n",
    "from peer_review import *\n",
    "from vancouver import *\n",
    "\n",
    "import matplotlib.pyplot as plt\n",
    "%matplotlib inline  \n"
   ]
  },
  {
   "cell_type": "code",
   "execution_count": 17,
   "metadata": {
    "collapsed": false
   },
   "outputs": [
    {
     "name": "stdout",
     "output_type": "stream",
     "text": [
      "Assignments:\n",
      "{'a': ['f1', 'f2', 'f3', 'h2', 'h3', 'h1', 'j1', 'j2', 'j3'],\n",
      " 'b': ['s3', 's2', 's1', 'k3', 'k2', 'k1', 'm1', 'm3', 'm2'],\n",
      " 'c': ['b1', 'b2', 'b3', 'd2', 'd3', 'd1', 'q1', 'q3', 'q2'],\n",
      " 'd': ['a1', 'a3', 'a2', 'c3', 'c2', 'c1', 'e1', 'e3', 'e2'],\n",
      " 'e': ['o3', 'o2', 'o1', 'g3', 'g2', 'g1', 'i1', 'i3', 'i2'],\n",
      " 'f': ['m2', 'c1', 't1', 'l2', 'l3', 'l1', 'n1', 'n2', 'n3'],\n",
      " 'g': ['p2', 'p3', 'p1', 'r1', 'r2', 'r3', 't2', 't3', 't1'],\n",
      " 'h': ['j2', 'j3', 'd2', 'q1', 'k3', 'm2', 'o2', 'i2', 't2'],\n",
      " 'i': ['h2', 'd2', 's1', 'k1', 'a3', 'c3', 'c2', 'l1', 'n1'],\n",
      " 'j': ['q2', 'o3', 'i3', 'a2', 'e1', 'p3', 'l2', 'n1', 'n3'],\n",
      " 'k': ['h1', 'b2', 'd3', 'd1', 's1', 'c2', 'r3', 't1', 'l2'],\n",
      " 'l': ['f1', 's2', 'm3', 'o1', 'g3', 'g2', 'g1', 'a2', 'r3'],\n",
      " 'm': ['j1', 'd3', 'q3', 'g2', 'i3', 'c1', 'p2', 'p1', 'n2'],\n",
      " 'n': ['f1', 'f2', 'q1', 'q2', 's3', 'p2', 'r1', 'r2', 'l3'],\n",
      " 'o': ['f2', 'j1', 'j2', 'b1', 'm3', 'g3', 'a3', 'e1', 'n3'],\n",
      " 'p': ['h3', 'd1', 'q3', 'k3', 'm1', 'i1', 'a1', 'e3', 'e2'],\n",
      " 'q': ['f3', 'h2', 'j3', 'b2', 'g1', 'i1', 'r2', 't3', 'l3'],\n",
      " 'r': ['f3', 'b1', 'b3', 's3', 'k2', 'i2', 'e2', 'p3', 'n2'],\n",
      " 's': ['h3', 'h1', 'o3', 'o2', 'o1', 'a1', 't2', 't3', 'l1'],\n",
      " 't': ['b3', 's2', 'k2', 'k1', 'm1', 'c3', 'e3', 'p1', 'r1']}\n",
      "\n",
      "\n",
      "Vancouver:\n",
      "({'a': (0.5, 0.00114237879932558),\n",
      "  'b': (0.5, 0.003427572013053546),\n",
      "  'c': (0.5, 0.0009800418940174138),\n",
      "  'd': (0.5, 0.0012797091764133652),\n",
      "  'e': (0.5, 0.0013283344688290962),\n",
      "  'f': (0.5, 0.0008853389877542882),\n",
      "  'g': (0.5, 0.002593067684660237),\n",
      "  'h': (0.5, 0.002002394322798304),\n",
      "  'i': (0.5, 0.002301063299915363),\n",
      "  'j': (0.5, 0.0021484886927125245),\n",
      "  'k': (0.48042290093304807, 0.0011860040989693952),\n",
      "  'l': (0.4169481212354707, 0.0013648615898714414),\n",
      "  'm': (0.35111439019197793, 0.000884408846134309),\n",
      "  'n': (0.3994740853978816, 0.0018435305664311161),\n",
      "  'o': (0.4662769700206865, 0.0005704397939252241),\n",
      "  'p': (0.39530075931585035, 0.0007864611901987613),\n",
      "  'q': (0.34554328555949365, 0.0005107756499179733),\n",
      "  'r': (0.6015502140081784, 0.00048248379263688833),\n",
      "  's': (0.4563590822588643, 0.0014720781530855659),\n",
      "  't': (0.36301969464697614, 0.0026408821297759146)},\n",
      " {'a1': 0.0024146266874594097,\n",
      "  'a2': 0.02442211944081798,\n",
      "  'a3': 0.0849262570601082,\n",
      "  'b1': 0.004088580260830292,\n",
      "  'b2': 0.010276379345721037,\n",
      "  'b3': 0.009565596159494398,\n",
      "  'c1': 0.006091326221168409,\n",
      "  'c2': 0.11166663212270166,\n",
      "  'c3': 0.15824068059254925,\n",
      "  'd1': 0.10531210368256798,\n",
      "  'd2': 0.005272547631333262,\n",
      "  'd3': 0.00447635738282845,\n",
      "  'e1': 0.15829780490791445,\n",
      "  'e2': 0.006180778582138918,\n",
      "  'e3': 0.03496917078284259,\n",
      "  'f1': 0.01096703713314714,\n",
      "  'f2': 0.008431741479271247,\n",
      "  'f3': 0.1702251774906482,\n",
      "  'g1': 0.016695305619237055,\n",
      "  'g2': 0.11784734214040253,\n",
      "  'g3': 0.002507829778462019,\n",
      "  'h1': 0.045670208815345475,\n",
      "  'h2': 0.008961097698430846,\n",
      "  'h3': 0.04422187581164619,\n",
      "  'i1': 0.07382370504722144,\n",
      "  'i2': 0.011265337934242566,\n",
      "  'i3': 0.05650924241614115,\n",
      "  'j1': 0.00615099904621595,\n",
      "  'j2': 0.17977162426063176,\n",
      "  'j3': 0.0483829990003076,\n",
      "  'k1': 0.11665673781705799,\n",
      "  'k2': 0.019146633928975348,\n",
      "  'k3': 0.11123164886840449,\n",
      "  'l1': 0.008883994567486616,\n",
      "  'l2': 0.07746324229174813,\n",
      "  'l3': 0.012217337747381277,\n",
      "  'm1': 0.07262228134946806,\n",
      "  'm2': 0.006332323994419743,\n",
      "  'm3': 0.25976349463929804,\n",
      "  'n1': 0.04635094617856397,\n",
      "  'n2': 0.009103519258960847,\n",
      "  'n3': 0.11087330834998807,\n",
      "  'o1': 0.027285483218480542,\n",
      "  'o2': 0.0924060574288128,\n",
      "  'o3': 0.025256028938412337,\n",
      "  'p1': 0.011718392405246301,\n",
      "  'p2': 0.06658320832764517,\n",
      "  'p3': 0.006026326923722882,\n",
      "  'q1': 0.04121508707493873,\n",
      "  'q2': 0.017467399738060926,\n",
      "  'q3': 0.018105698089903543,\n",
      "  'r1': 0.06207172234487508,\n",
      "  'r2': 0.021732262393897632,\n",
      "  'r3': 0.01964574906421347,\n",
      "  's1': 0.0877584200910896,\n",
      "  's2': 0.06480926368774169,\n",
      "  's3': 0.05343644151227501,\n",
      "  't1': 0.041547623227295355,\n",
      "  't2': 0.12145516513581112,\n",
      "  't3': 0.026604698520757277})\n",
      "\n",
      "\n"
     ]
    }
   ],
   "source": [
    "\n",
    "\n",
    "# generate some group data\n",
    "groups = { j : [j + x for x in ['1','2','3']] for j in [ chr(ord('a') + z) for z in range(20)]}\n",
    "groups\n",
    "\n",
    "\n",
    "qs = [1,1,1,3,5,10]\n",
    "numtruth = 10\n",
    "k = 3\n",
    "\n",
    "assignments = peer_assignment(groups,k)\n",
    "\n",
    "print(\"Assignments:\")\n",
    "pprint(invert_dictlist_dup(assignments))\n",
    "print(\"\\n\")\n",
    "\n",
    "\n",
    "\n",
    "# generate review data.\n",
    "peers = assignments.keys()\n",
    "qualities = {i: random.sample(qs,1)[0] for i in peers}\n",
    "\n",
    "reviews = random_reviews(assignments,qualities)\n",
    "\n",
    "#print \"Simple Vancouver:\"\n",
    "#pprint(simple_vancouver(reviews,{chr(ord('a') + z):0.5 for z in range(10)},10))\n",
    "##pprint(simple_vancouver(reviews,{},10))\n",
    "#print \"\\n\"\n",
    "\n",
    "print \"Vancouver:\"\n",
    "vout = vancouver(reviews,{chr(ord('a') + z):0.5 for z in range(numtruth)},10)\n",
    "pprint(vout)\n",
    "print(\"\\n\")\n",
    "\n"
   ]
  },
  {
   "cell_type": "code",
   "execution_count": 15,
   "metadata": {
    "collapsed": false
   },
   "outputs": [
    {
     "data": {
      "image/png": "[encoded data removed]",
      "text/plain": [
       "<matplotlib.figure.Figure at 0x1116df310>"
      ]
     },
     "metadata": {},
     "output_type": "display_data"
    }
   ],
   "source": [
    "peerout = vout[1]\n",
    "\n",
    "# plot student quality estimates\n",
    "x = [qualities[i] for i in peers]\n",
    "y = [peerout[i] for i in peers]\n",
    "plt.scatter(x,y)\n",
    "plt.xlabel('Student qualities')\n",
    "plt.ylabel('Estimated student variances')\n",
    "plt.title('Estimated Student Variances vs Qualities')\n",
    "plt.show()"
   ]
  },
  {
   "cell_type": "code",
   "execution_count": 27,
   "metadata": {
    "collapsed": false
   },
   "outputs": [
    {
     "data": {
      "text/plain": [
       "[0]"
      ]
     },
     "execution_count": 27,
     "metadata": {},
     "output_type": "execute_result"
    }
   ],
   "source": [
    "random.sample(range(10),1)"
   ]
  },
  {
   "cell_type": "code",
   "execution_count": null,
   "metadata": {
    "collapsed": true
   },
   "outputs": [],
   "source": []
  }
 ],
 "metadata": {
  "kernelspec": {
   "display_name": "Python 2",
   "language": "python",
   "name": "python2"
  },
  "language_info": {
   "codemirror_mode": {
    "name": "ipython",
    "version": 2
   },
   "file_extension": ".py",
   "mimetype": "text/x-python",
   "name": "python",
   "nbconvert_exporter": "python",
   "pygments_lexer": "ipython2",
   "version": "2.7.10"
  }
 },
 "nbformat": 4,
 "nbformat_minor": 0
}
