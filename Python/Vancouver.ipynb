{
 "cells": [
  {
   "cell_type": "code",
   "execution_count": 5,
   "metadata": {
    "collapsed": false
   },
   "outputs": [],
   "source": [
    "from peer_review_assignments import *\n",
    "import numpy as np\n",
    "from vancouver import *\n",
    "import matplotlib.pyplot as plt\n",
    "%matplotlib inline  \n"
   ]
  },
  {
   "cell_type": "code",
   "execution_count": 9,
   "metadata": {
    "collapsed": false
   },
   "outputs": [],
   "source": [
    "\n",
    "# generate groups\n",
    "\n",
    "L = [chr(ord('a') + z) for z in range(26)];\n",
    "bigL = [x + y for x in L for y in L]\n",
    "bigGroups = {sub : [sub + x for x in ['1','2','3']] for sub in bigL[:90]};\n",
    "\n",
    "# relevant info for these groups\n",
    "submissions = bigGroups.keys()\n",
    "exclude = invert_dictlist(bigGroups)\n",
    "students = exclude.keys()\n",
    "\n",
    "\n",
    "# initialize some variables\n",
    "submissionVariances = [];\n",
    "studentQualities = [];\n",
    "\n",
    "number_of_trials = 1;\n",
    "number_of_steps = 15;\n",
    "k = 3;\n",
    "\n",
    "for _ in range(number_of_trials):\n",
    "\n",
    "    # generate assignments\n",
    "    emptycover = {s: [] for s in students}\n",
    "    assignments = peer_assignment_with_cover(bigGroups,k,emptycover)\n",
    "\n",
    "    # ground truth\n",
    "    trueGrades = {j:0.5 for j in submissions}\n",
    "    trueQualities = {i: random.getrandbits(1)*4+1 for i in students}\n",
    "\n",
    "    # generate some grades\n",
    "    reviews = random_reviews(assignments,trueQualities)\n",
    "    (grades,qualities) = vancouver(reviews,trueGrades,number_of_steps);\n",
    "    #(grades,qualities) = simple_vancouver(reviews,trueGrades,number_of_steps);\n",
    "\n",
    "    # (true, estimate) pairs\n",
    "    submissionVariances += [(1.0/12,grades[sub][1]) for sub in submissions]\n",
    "    studentQualities += [(trueQualities[i],qualities[i]) for i in students]\n",
    "    "
   ]
  },
  {
   "cell_type": "code",
   "execution_count": 10,
   "metadata": {
    "collapsed": false
   },
   "outputs": [
    {
     "data": {
      "image/png": "[encoded data removed]",
      "text/plain": [
       "<matplotlib.figure.Figure at 0x10b501ed0>"
      ]
     },
     "metadata": {},
     "output_type": "display_data"
    }
   ],
   "source": [
    "# plot student quality estimates\n",
    "x = [v[0] for v in studentQualities]\n",
    "y = [v[1] for v in studentQualities]\n",
    "plt.scatter(x,y)\n",
    "plt.xlabel('Student qualities')\n",
    "plt.ylabel('Estimated student variances')\n",
    "plt.title('Estimated Student Variances vs Qualities')\n",
    "plt.show()"
   ]
  },
  {
   "cell_type": "code",
   "execution_count": 7,
   "metadata": {
    "collapsed": false
   },
   "outputs": [
    {
     "data": {
      "image/png": "[encoded data removed]",
      "text/plain": [
       "<matplotlib.figure.Figure at 0x109e79890>"
      ]
     },
     "metadata": {},
     "output_type": "display_data"
    }
   ],
   "source": [
    "# plot submission variance histogram\n",
    "# should be centered at 1/12\n",
    "x = [v[1] for v in submissionVariances]\n",
    "plt.hist(x)\n",
    "plt.xlabel('Submission Variances')\n",
    "plt.title('Submission Variance Histogram')\n",
    "plt.show()"
   ]
  },
  {
   "cell_type": "code",
   "execution_count": null,
   "metadata": {
    "collapsed": true
   },
   "outputs": [],
   "source": []
  }
 ],
 "metadata": {
  "kernelspec": {
   "display_name": "Python 2",
   "language": "python",
   "name": "python2"
  },
  "language_info": {
   "codemirror_mode": {
    "name": "ipython",
    "version": 2
   },
   "file_extension": ".py",
   "mimetype": "text/x-python",
   "name": "python",
   "nbconvert_exporter": "python",
   "pygments_lexer": "ipython2",
   "version": "2.7.10"
  }
 },
 "nbformat": 4,
 "nbformat_minor": 0
}
