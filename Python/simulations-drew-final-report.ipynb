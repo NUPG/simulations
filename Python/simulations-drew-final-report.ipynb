{
 "cells": [
  {
   "cell_type": "code",
   "execution_count": null,
   "metadata": {
    "collapsed": true
   },
   "outputs": [],
   "source": [
    "%matplotlib inline\n",
    "\n",
    "from pprint import pprint\n",
    "from peer_review import *\n",
    "from vancouver_simulations import *\n",
    "import numpy as np\n",
    "import matplotlib.pyplot as plt\n",
    "import operator"
   ]
  },
  {
   "cell_type": "code",
   "execution_count": null,
   "metadata": {
    "collapsed": false
   },
   "outputs": [],
   "source": [
    "plot_cdfs(vancouver_steps=10, num_trials=200)"
   ]
  },
  {
   "cell_type": "code",
   "execution_count": null,
   "metadata": {
    "collapsed": false
   },
   "outputs": [],
   "source": [
    "plot_cdfs(vancouver_steps=20, num_trials=200)"
   ]
  },
  {
   "cell_type": "code",
   "execution_count": null,
   "metadata": {
    "collapsed": false
   },
   "outputs": [],
   "source": [
    "plot_cdfs(vancouver_steps=1, num_trials=200)"
   ]
  },
  {
   "cell_type": "code",
   "execution_count": null,
   "metadata": {
    "collapsed": false
   },
   "outputs": [],
   "source": [
    "plot_cdfs(num_trials=200, use_cover=False)"
   ]
  },
  {
   "cell_type": "code",
   "execution_count": null,
   "metadata": {
    "collapsed": false
   },
   "outputs": [],
   "source": [
    "plot_cdfs(num_trials=200, use_cover=True)"
   ]
  },
  {
   "cell_type": "code",
   "execution_count": null,
   "metadata": {
    "collapsed": false
   },
   "outputs": [],
   "source": [
    "plot_cdfs(num_trials=200, peer_quality=(random.choice, [1, 5]))"
   ]
  },
  {
   "cell_type": "code",
   "execution_count": null,
   "metadata": {
    "collapsed": false
   },
   "outputs": [],
   "source": [
    "plot_cdfs(num_trials=200, peer_quality=(random.choice, [1, 5, 5, 5]))"
   ]
  },
  {
   "cell_type": "code",
   "execution_count": null,
   "metadata": {
    "collapsed": false
   },
   "outputs": [],
   "source": [
    "plot_cdfs(num_trials=200, peer_quality=(random.choice, [1, 1, 1, 5]))"
   ]
  },
  {
   "cell_type": "code",
   "execution_count": null,
   "metadata": {
    "collapsed": true
   },
   "outputs": [],
   "source": [
    "def highest_grade_error(t, init, actual):\n",
    "    scores = init[0]\n",
    "    qualities = init[1]\n",
    "    omni_scores = actual[0]\n",
    "    true_qualities = actual[1]\n",
    "    \n",
    "    sub_score_error = [abs(scores[submission][0] - 0.5) for submission in scores]\n",
    "    sub_var_error = [abs(scores[submission][1] - omni_scores[submission][1]) for submission in scores]\n",
    "    grader_var_error = [abs(qualities[grader] - true_qualities[grader]) for grader in qualities]\n",
    "    \n",
    "    return max(sub_grade_error.iteritems(), key=operator.itemgetter(1))[0]\n",
    "\n",
    "def highest_submission_variance(t, init, actual):\n",
    "    scores = init[0]\n",
    "    qualities = init[1]\n",
    "    omni_scores = actual[0]\n",
    "    true_qualities = actual[1]\n",
    "    \n",
    "    sub_score_error = [abs(scores[submission][0] - 0.5) for submission in scores]\n",
    "    sub_var_error = [abs(scores[submission][1] - omni_scores[submission][1]) for submission in scores]\n",
    "    grader_var_error = [abs(qualities[grader] - true_qualities[grader]) for grader in qualities]\n",
    "    \n",
    "    sub_var = [scores[submission][1] for submission in scores]\n",
    "    \n",
    "    return max(sub_var.iteritems(), key=operator.itemgetter(1))[0]"
   ]
  },
  {
   "cell_type": "code",
   "execution_count": null,
   "metadata": {
    "collapsed": false
   },
   "outputs": [],
   "source": [
    "plot_cdfs(grading_algorithm=highest_grade_error, num_trials=200)"
   ]
  },
  {
   "cell_type": "code",
   "execution_count": null,
   "metadata": {
    "collapsed": false
   },
   "outputs": [],
   "source": [
    "plot_cdfs(grading_algorithm=highest_submission_variance, num_trials=200)"
   ]
  },
  {
   "cell_type": "code",
   "execution_count": null,
   "metadata": {
    "collapsed": true
   },
   "outputs": [],
   "source": []
  }
 ],
 "metadata": {
  "kernelspec": {
   "display_name": "Python 2",
   "language": "python",
   "name": "python2"
  },
  "language_info": {
   "codemirror_mode": {
    "name": "ipython",
    "version": 2
   },
   "file_extension": ".py",
   "mimetype": "text/x-python",
   "name": "python",
   "nbconvert_exporter": "python",
   "pygments_lexer": "ipython2",
   "version": "2.7.11"
  }
 },
 "nbformat": 4,
 "nbformat_minor": 0
}
