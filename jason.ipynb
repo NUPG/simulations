{
 "cells": [
  {
   "cell_type": "code",
   "execution_count": 36,
   "metadata": {
    "collapsed": false
   },
   "outputs": [],
   "source": [
    "from pprint import pprint\n",
    "from peer_review import *\n"
   ]
  },
  {
   "cell_type": "code",
   "execution_count": 37,
   "metadata": {
    "collapsed": false
   },
   "outputs": [
    {
     "name": "stdout",
     "output_type": "stream",
     "text": [
      "Cover: \n",
      "{'a': ['f1', 'f2', 'f3', 'h2', 'h3', 'h1', 'j1', 'j2', 'j3'], 'c': ['b1', 'b2', 'b3', 'd2', 'd3', 'd1', 'q1', 'q3', 'q2'], 'b': ['s3', 's2', 's1', 'k3', 'k2', 'k1', 'm1', 'm3', 'm2'], 'e': ['o3', 'o2', 'o1', 'g3', 'g2', 'g1', 'i1', 'i3', 'i2'], 'd': ['a1', 'a3', 'a2', 'c3', 'c2', 'c1', 'e1', 'e3', 'e2'], 'g': ['p2', 'p3', 'p1', 'r1', 'r2', 'r3', 't2', 't3', 't1'], 'f': ['q2', 'e2', 'r3', 'l2', 'l3', 'l1', 'n1', 'n2', 'n3'], 'i': ['h3', 'g2', 'a1', 'a3', 'c3', 'e1', 'p1', 'r2', 't1'], 'h': ['f1', 'b1', 'g2', 'c3', 'e1', 'e3', 't2', 't3', 'n1'], 'k': ['d3', 's2', 's1', 'm1', 'm2', 'g3', 'i3', 'r3', 'l1'], 'j': ['f3', 'd1', 'q1', 's3', 'o1', 'g1', 'e2', 'l3', 'n3'], 'm': ['j2', 'b1', 'k1', 'o2', 'o1', 'c2', 'p3', 'r2', 'l2'], 'l': ['f2', 'd1', 'q2', 'm2', 'g1', 'i3', 'a3', 'a2', 't2'], 'o': ['h2', 'h1', 'b2', 'b3', 'd2', 'q3', 'm3', 't3', 't1'], 'n': ['h2', 'h3', 'b2', 's2', 'k3', 'k2', 'm1', 'o3', 'l1'], 'q': ['h1', 'k2', 'k1', 'm3', 'i1', 'i2', 'c1', 'r1', 'l3'], 'p': ['f2', 'j1', 'j2', 'j3', 'd3', 'q1', 's1', 'r1', 'n2'], 's': ['f1', 'j3', 'b3', 'd2', 'q3', 'k3', 'e3', 'p1', 'n3'], 'r': ['f3', 's3', 'o3', 'o2', 'g3', 'a1', 'a2', 'p2', 'p3'], 't': ['j1', 'i1', 'i2', 'c2', 'c1', 'p2', 'l2', 'n1', 'n2']}\n",
      "Assignments:\n",
      "{'a': ['f1', 'f2', 'f3', 'h2', 'h3', 'h1', 'j1', 'j2', 'j3'],\n",
      " 'b': ['s3', 's2', 's1', 'k3', 'k2', 'k1', 'm1', 'm3', 'm2'],\n",
      " 'c': ['b1', 'b2', 'b3', 'd2', 'd3', 'd1', 'q1', 'q3', 'q2'],\n",
      " 'd': ['a1', 'a3', 'a2', 'c3', 'c2', 'c1', 'e1', 'e3', 'e2'],\n",
      " 'e': ['o3', 'o2', 'o1', 'g3', 'g2', 'g1', 'i1', 'i3', 'i2'],\n",
      " 'f': ['q2', 'e2', 'r3', 'l2', 'l3', 'l1', 'n1', 'n2', 'n3'],\n",
      " 'g': ['p2', 'p3', 'p1', 'r1', 'r2', 'r3', 't2', 't3', 't1'],\n",
      " 'h': ['f1', 'b1', 'g2', 'c3', 'e1', 'e3', 't2', 't3', 'n1'],\n",
      " 'i': ['h3', 'g2', 'a1', 'a3', 'c3', 'e1', 'p1', 'r2', 't1'],\n",
      " 'j': ['f3', 'd1', 'q1', 's3', 'o1', 'g1', 'e2', 'l3', 'n3'],\n",
      " 'k': ['d3', 's2', 's1', 'm1', 'm2', 'g3', 'i3', 'r3', 'l1'],\n",
      " 'l': ['f2', 'd1', 'q2', 'm2', 'g1', 'i3', 'a3', 'a2', 't2'],\n",
      " 'm': ['j2', 'b1', 'k1', 'o2', 'o1', 'c2', 'p3', 'r2', 'l2'],\n",
      " 'n': ['h2', 'h3', 'b2', 's2', 'k3', 'k2', 'm1', 'o3', 'l1'],\n",
      " 'o': ['h2', 'h1', 'b2', 'b3', 'd2', 'q3', 'm3', 't3', 't1'],\n",
      " 'p': ['f2', 'j1', 'j2', 'j3', 'd3', 'q1', 's1', 'r1', 'n2'],\n",
      " 'q': ['h1', 'k2', 'k1', 'm3', 'i1', 'i2', 'c1', 'r1', 'l3'],\n",
      " 'r': ['f3', 's3', 'o3', 'o2', 'g3', 'a1', 'a2', 'p2', 'p3'],\n",
      " 's': ['f1', 'j3', 'b3', 'd2', 'q3', 'k3', 'e3', 'p1', 'n3'],\n",
      " 't': ['j1', 'i1', 'i2', 'c2', 'c1', 'p2', 'l2', 'n1', 'n2']}\n",
      "\n",
      "\n"
     ]
    },
    {
     "ename": "TypeError",
     "evalue": "random_reviews() takes exactly 1 argument (2 given)",
     "output_type": "error",
     "traceback": [
      "\u001b[0;31m---------------------------------------------------------------------------\u001b[0m",
      "\u001b[0;31mTypeError\u001b[0m                                 Traceback (most recent call last)",
      "\u001b[0;32m<ipython-input-37-ed7614d03ac8>\u001b[0m in \u001b[0;36m<module>\u001b[0;34m()\u001b[0m\n\u001b[1;32m     14\u001b[0m \u001b[0mqualities\u001b[0m \u001b[0;34m=\u001b[0m \u001b[0;34m{\u001b[0m\u001b[0mi\u001b[0m\u001b[0;34m:\u001b[0m \u001b[0mrandom\u001b[0m\u001b[0;34m.\u001b[0m\u001b[0msample\u001b[0m\u001b[0;34m(\u001b[0m\u001b[0;34m[\u001b[0m\u001b[0;36m1\u001b[0m\u001b[0;34m,\u001b[0m\u001b[0;36m1\u001b[0m\u001b[0;34m,\u001b[0m\u001b[0;36m1\u001b[0m\u001b[0;34m,\u001b[0m\u001b[0;36m3\u001b[0m\u001b[0;34m,\u001b[0m\u001b[0;36m5\u001b[0m\u001b[0;34m,\u001b[0m\u001b[0;36m10\u001b[0m\u001b[0;34m]\u001b[0m\u001b[0;34m,\u001b[0m\u001b[0;36m1\u001b[0m\u001b[0;34m)\u001b[0m\u001b[0;34m[\u001b[0m\u001b[0;36m0\u001b[0m\u001b[0;34m]\u001b[0m \u001b[0;32mfor\u001b[0m \u001b[0mi\u001b[0m \u001b[0;32min\u001b[0m \u001b[0mpeers\u001b[0m\u001b[0;34m}\u001b[0m\u001b[0;34m\u001b[0m\u001b[0m\n\u001b[1;32m     15\u001b[0m \u001b[0;34m\u001b[0m\u001b[0m\n\u001b[0;32m---> 16\u001b[0;31m \u001b[0mreviews\u001b[0m \u001b[0;34m=\u001b[0m \u001b[0mrandom_reviews\u001b[0m\u001b[0;34m(\u001b[0m\u001b[0massignments\u001b[0m\u001b[0;34m,\u001b[0m\u001b[0mqualities\u001b[0m\u001b[0;34m)\u001b[0m\u001b[0;34m\u001b[0m\u001b[0m\n\u001b[0m\u001b[1;32m     17\u001b[0m \u001b[0;34m\u001b[0m\u001b[0m\n\u001b[1;32m     18\u001b[0m \u001b[0;31m#print \"Simple Vancouver:\"\u001b[0m\u001b[0;34m\u001b[0m\u001b[0;34m\u001b[0m\u001b[0m\n",
      "\u001b[0;31mTypeError\u001b[0m: random_reviews() takes exactly 1 argument (2 given)"
     ]
    }
   ],
   "source": [
    "\n",
    "# generate some group data\n",
    "groups = { j : [j + x for x in ['1','2','3']] for j in [ chr(ord('a') + z) for z in range(20)]}\n",
    "groups\n",
    "\n",
    "assignments = peer_assignment(groups,3)\n",
    "\n",
    "print \"Assignments:\"\n",
    "pprint(invert_dictlist_dup(assignments))\n",
    "print \"\\n\"\n",
    "\n",
    "# generate review data.\n",
    "peers = assignments.keys()\n",
    "qualities = {i: random.sample([1,1,1,3,5,10],1)[0] for i in peers}\n",
    "\n",
    "reviews = random_reviews(assignments,qualities)\n",
    "\n",
    "#print \"Simple Vancouver:\"\n",
    "#pprint(simple_vancouver(reviews,{chr(ord('a') + z):0.5 for z in range(10)},10))\n",
    "##pprint(simple_vancouver(reviews,{},10))\n",
    "#print \"\\n\"\n",
    "\n",
    "print \"Vancouver:\"\n",
    "pprint(vancouver(reviews,{chr(ord('a') + z):0.5 for z in range(10)},10))\n",
    "#pprint(vancouver(reviews,{},10))\n",
    "print \"\\n\"\n"
   ]
  },
  {
   "cell_type": "code",
   "execution_count": 20,
   "metadata": {
    "collapsed": false
   },
   "outputs": [
    {
     "data": {
      "text/plain": [
       "2"
      ]
     },
     "execution_count": 20,
     "metadata": {},
     "output_type": "execute_result"
    }
   ],
   "source": [
    "avg([1,2,3])"
   ]
  },
  {
   "cell_type": "code",
   "execution_count": 27,
   "metadata": {
    "collapsed": false
   },
   "outputs": [
    {
     "data": {
      "text/plain": [
       "[0]"
      ]
     },
     "execution_count": 27,
     "metadata": {},
     "output_type": "execute_result"
    }
   ],
   "source": [
    "random.sample(range(10),1)"
   ]
  },
  {
   "cell_type": "code",
   "execution_count": null,
   "metadata": {
    "collapsed": true
   },
   "outputs": [],
   "source": []
  }
 ],
 "metadata": {
  "kernelspec": {
   "display_name": "Python 2",
   "language": "python",
   "name": "python2"
  },
  "language_info": {
   "codemirror_mode": {
    "name": "ipython",
    "version": 2
   },
   "file_extension": ".py",
   "mimetype": "text/x-python",
   "name": "python",
   "nbconvert_exporter": "python",
   "pygments_lexer": "ipython2",
   "version": "2.7.10"
  }
 },
 "nbformat": 4,
 "nbformat_minor": 0
}
