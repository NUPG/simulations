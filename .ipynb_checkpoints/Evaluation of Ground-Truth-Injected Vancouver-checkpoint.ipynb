{
 "cells": [
  {
   "cell_type": "code",
   "execution_count": 1,
   "metadata": {
    "collapsed": false
   },
   "outputs": [],
   "source": [
    "%matplotlib inline\n",
    "\n",
    "from pprint import pprint\n",
    "from peer_review import *\n",
    "import numpy as np\n",
    "import matplotlib.pyplot as plt"
   ]
  },
  {
   "cell_type": "code",
   "execution_count": 3,
   "metadata": {
    "collapsed": false
   },
   "outputs": [],
   "source": [
    "def evaluate_vancouver(num_assignments, num_reviews, num_truths):\n",
    "    # generate random groups, assignments, and reviews\n",
    "    groups = { sub : [sub + x for x in ['1','2','3']] for sub in [ chr(ord('a') + z) for z in range(num_assignments)]}\n",
    "    assignments = peer_assignment(groups, num_reviews)\n",
    "    reviews = random_reviews(assignments)\n",
    "    \n",
    "    # generate a random ground truth value for all submissions\n",
    "    truths = {i: 0.5 for i in groups}\n",
    "    truths_visible = truths.copy()\n",
    "    \n",
    "    # make a truths_visible dictionary for the algorithm to have access to\n",
    "    truths_visible = truths.copy()\n",
    "    _ = {truths_visible.popitem() for i in range(num_assignments - num_truths)}\n",
    "    \n",
    "    # run vancouver and omniscient vancouver\n",
    "    scores, qualities = vancouver(reviews, truths_visible, 10)\n",
    "    omni_scores, omni_qualities = vancouver(reviews, truths, 10)\n",
    "    \n",
    "    # generate statistics on the data\n",
    "    sub_score_error = [abs(scores[submission][0] - omni_scores[submission][0]) for submission in scores]\n",
    "    sub_var_error = [abs(scores[submission][1] - omni_scores[submission][1]) for submission in scores]\n",
    "    grader_var_error = [abs(qualities[grader] - omni_qualities[grader]) for grader in qualities]\n",
    "\n",
    "    return sub_score_error, sub_var_error, grader_var_error\n",
    "\n",
    "    \n",
    "def vancouver_statistics(num_assignments, num_reviews, num_truths, num_runs):\n",
    "    # generate each statistic for num_runs trials\n",
    "    means_acc = []\n",
    "    medians_acc = []\n",
    "    maxes_acc = []\n",
    "    for _ in range(num_runs):\n",
    "        errors = evaluate_vancouver(num_assignments, num_reviews, num_truths)\n",
    "        means = [np.mean(stat) for stat in errors]\n",
    "        means_acc.append(means)\n",
    "        medians = [np.median(stat) for stat in errors]\n",
    "        medians_acc.append(medians)\n",
    "        maxes = [max(stat) for stat in errors]\n",
    "        maxes_acc.append(maxes)\n",
    "    \n",
    "    # average the results of the statistics across the trials\n",
    "    mean_average = np.mean(means_acc, axis=0)\n",
    "    median_average = np.mean(medians_acc, axis=0)\n",
    "    max_average = np.mean(maxes_acc, axis=0)\n",
    "    \n",
    "    # tidy up the output for user-friendliness\n",
    "    mean_dict = {'sub_grade': mean_average[0], 'sub_var': mean_average[1], 'usr_var': mean_average[2]}\n",
    "    median_dict = {'sub_grade': median_average[0], 'sub_var': median_average[1], 'usr_var': median_average[2]}\n",
    "    max_dict = {'sub_grade': max_average[0], 'sub_var': max_average[1], 'usr_var': max_average[2]}\n",
    "    \n",
    "    return {'mean': mean_dict, 'median': median_dict, 'max': max_dict}\n",
    "\n",
    "def print_stats(stats):\n",
    "    print('Expectation of the Error in a Given Trial', '\\n')\n",
    "    \n",
    "    print('Assignment Grades:')\n",
    "    print('Mean Error: ', stats['mean']['sub_grade'])\n",
    "    print('Maximum Error: ', stats['max']['sub_grade'])\n",
    "    print('Median Error: ', stats['median']['sub_grade'], '\\n')\n",
    "    \n",
    "    print('Assignment Variances:')\n",
    "    print('Mean Error: ', stats['mean']['sub_var'])\n",
    "    print('Maximum Error: ', stats['max']['sub_var'])\n",
    "    print('Median Error: ', stats['median']['sub_var'], '\\n')\n",
    "    \n",
    "    print('Grader Variances:')\n",
    "    print('Mean Error: ', stats['mean']['usr_var'])\n",
    "    print('Maximum Error: ', stats['max']['usr_var'])\n",
    "    print('Median Error: ', stats['median']['usr_var'], '\\n', '\\n')"
   ]
  },
  {
   "cell_type": "code",
   "execution_count": 4,
   "metadata": {
    "collapsed": false
   },
   "outputs": [
    {
     "name": "stdout",
     "output_type": "stream",
     "text": [
      "Expectation of the Error in a Given Trial \n",
      "\n",
      "Assignment Grades:\n",
      "Mean Error:  0.0984239177068\n",
      "Maximum Error:  0.307004402612\n",
      "Median Error:  0.0792669955969 \n",
      "\n",
      "Assignment Variances:\n",
      "Mean Error:  0.00164702955814\n",
      "Maximum Error:  0.0066170719801\n",
      "Median Error:  0.00134757115811 \n",
      "\n",
      "Grader Variances:\n",
      "Mean Error:  0.0443335675047\n",
      "Maximum Error:  0.217798265848\n",
      "Median Error:  0.030454558313 \n",
      " \n",
      "\n"
     ]
    }
   ],
   "source": [
    "print_stats(vancouver_statistics(20, 3, 5, 3))"
   ]
  },
  {
   "cell_type": "code",
   "execution_count": 5,
   "metadata": {
    "collapsed": false
   },
   "outputs": [
    {
     "name": "stdout",
     "output_type": "stream",
     "text": [
      "0\n",
      "1\n",
      "2\n",
      "3\n",
      "4\n",
      "5\n",
      "6\n",
      "7\n",
      "8\n",
      "9\n",
      "10\n",
      "11\n",
      "12\n",
      "13\n",
      "14\n",
      "15\n",
      "16\n",
      "17\n",
      "18\n",
      "19\n",
      "20\n"
     ]
    },
    {
     "data": {
      "image/png": "[encoded data removed]",
      "text/plain": [
       "<matplotlib.figure.Figure at 0x7f5dc0141080>"
      ]
     },
     "metadata": {},
     "output_type": "display_data"
    }
   ],
   "source": [
    "NUM_STUDENTS = 20\n",
    "NUM_GRADES_PER_STUDENT = 3\n",
    "NUM_TRIALS = 20\n",
    "STEP_SIZE = 1\n",
    "\n",
    "stat_type = 'median'\n",
    "stat_variable = 'sub_grade'\n",
    "\n",
    "stats = []\n",
    "for num_true_grades in range(0, NUM_STUDENTS + STEP_SIZE, STEP_SIZE):\n",
    "    print(num_true_grades)\n",
    "    stats.append(vancouver_statistics(NUM_STUDENTS, NUM_GRADES_PER_STUDENT, num_true_grades, NUM_TRIALS)[stat_type][stat_variable])\n",
    "    \n",
    "plt.plot(range(0, NUM_STUDENTS + STEP_SIZE, STEP_SIZE), stats)\n",
    "plt.xlabel('Number of Ground-Truth Grades')\n",
    "plt.ylabel(stat_type + ' ' + stat_variable + ' Error')\n",
    "plt.show()"
   ]
  },
  {
   "cell_type": "code",
   "execution_count": null,
   "metadata": {
    "collapsed": true
   },
   "outputs": [],
   "source": []
  }
 ],
 "metadata": {
  "kernelspec": {
   "display_name": "Python 3",
   "language": "python",
   "name": "python3"
  },
  "language_info": {
   "codemirror_mode": {
    "name": "ipython",
    "version": 3
   },
   "file_extension": ".py",
   "mimetype": "text/x-python",
   "name": "python",
   "nbconvert_exporter": "python",
   "pygments_lexer": "ipython3",
   "version": "3.5.1"
  }
 },
 "nbformat": 4,
 "nbformat_minor": 0
}
